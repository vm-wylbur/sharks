{
 "cells": [
  {
   "cell_type": "markdown",
   "metadata": {},
   "source": [
    "# Import\n",
    "\n",
    "all we do is open the file with pandas and write a csv. \n",
    "\n",
    "**TODO:** read - clean - write "
   ]
  },
  {
   "cell_type": "code",
   "execution_count": 2,
   "metadata": {
    "collapsed": true
   },
   "outputs": [],
   "source": [
    "import pandas as pd\n",
    "import gzip"
   ]
  },
  {
   "cell_type": "code",
   "execution_count": 13,
   "metadata": {
    "collapsed": false
   },
   "outputs": [
    {
     "name": "stdout",
     "output_type": "stream",
     "text": [
      "<class 'pandas.core.frame.DataFrame'>\n",
      "Int64Index: 6066 entries, 0 to 6065\n",
      "Data columns (total 15 columns):\n",
      "caseno                    6066 non-null object\n",
      "Date                      6066 non-null object\n",
      "Type                      6065 non-null object\n",
      "Country                   6021 non-null object\n",
      "Area                      5656 non-null object\n",
      "Location                  5560 non-null object\n",
      "Activity                  5532 non-null object\n",
      "Name                      5861 non-null object\n",
      "sex                       5491 non-null object\n",
      "Age                       3359 non-null object\n",
      "Injury                    6038 non-null object\n",
      "fatal                     6066 non-null object\n",
      "Time                      2831 non-null object\n",
      "species                   3088 non-null object\n",
      "Investigator or Source    6050 non-null object\n",
      "dtypes: object(15)\n",
      "memory usage: 758.2+ KB\n"
     ]
    }
   ],
   "source": [
    "# read and prepare the data\n",
    "\n",
    "attacks = pd.read_excel(gzip.open(\"../input/GSAF5.xls.gz\"), sheet=\"Sheet1-GSAF\")\n",
    "\n",
    "fields_to_keep = [\"Case Number\", \"Date\", \"Type\", \"Country\", \"Area\",\n",
    "                  \"Location\", \"Activity\", \"Name\", \"Sex \", \"Age\", \"Injury\",\n",
    "                  \"Fatal (Y/N)\", \"Time\", \"Species \", \"Investigator or Source\"]\n",
    "attacks = attacks[fields_to_keep]\n",
    "\n",
    "renamer = {\n",
    "    'Case Number': 'caseno',\n",
    "    'Species ': 'species',\n",
    "    'Fatal (Y/N)': 'fatal',\n",
    "    'Sex ': 'sex'}\n",
    "attacks.rename(columns=renamer, inplace=True)\n",
    "del renamer \n",
    "\n",
    "replacer = {'N': 'N', 'Y': 'Y'}\n",
    "attacks['fatal'] = attacks.fatal.map(\n",
    "    lambda f: replacer.get(str(f).upper().strip(), 'UNKNOWN'))\n",
    "del replacer\n",
    "\n",
    "attacks = attacks.loc[pd.notnull(attacks.Date)]\n",
    "assert len(attacks) == 6066\n",
    "\n",
    "attacks.info()"
   ]
  },
  {
   "cell_type": "code",
   "execution_count": 15,
   "metadata": {
    "collapsed": false
   },
   "outputs": [
    {
     "data": {
      "text/html": [
       "<div>\n",
       "<table border=\"1\" class=\"dataframe\">\n",
       "  <thead>\n",
       "    <tr style=\"text-align: right;\">\n",
       "      <th></th>\n",
       "      <th>caseno</th>\n",
       "      <th>Date</th>\n",
       "      <th>Type</th>\n",
       "      <th>Country</th>\n",
       "      <th>Area</th>\n",
       "      <th>Location</th>\n",
       "      <th>Activity</th>\n",
       "      <th>Name</th>\n",
       "      <th>sex</th>\n",
       "      <th>Age</th>\n",
       "      <th>Injury</th>\n",
       "      <th>fatal</th>\n",
       "      <th>Time</th>\n",
       "      <th>species</th>\n",
       "      <th>Investigator or Source</th>\n",
       "    </tr>\n",
       "  </thead>\n",
       "  <tbody>\n",
       "    <tr>\n",
       "      <th>6063</th>\n",
       "      <td>ND.0003</td>\n",
       "      <td>1900-1905</td>\n",
       "      <td>Unprovoked</td>\n",
       "      <td>USA</td>\n",
       "      <td>North Carolina</td>\n",
       "      <td>Ocracoke Inlet</td>\n",
       "      <td>Swimming</td>\n",
       "      <td>Coast Guard personnel</td>\n",
       "      <td>M</td>\n",
       "      <td>NaN</td>\n",
       "      <td>FATAL</td>\n",
       "      <td>Y</td>\n",
       "      <td>NaN</td>\n",
       "      <td>NaN</td>\n",
       "      <td>F. Schwartz, p.23; C. Creswell, GSAF</td>\n",
       "    </tr>\n",
       "    <tr>\n",
       "      <th>6064</th>\n",
       "      <td>ND.0002</td>\n",
       "      <td>1883-1889</td>\n",
       "      <td>Unprovoked</td>\n",
       "      <td>PANAMA</td>\n",
       "      <td>NaN</td>\n",
       "      <td>Panama Bay 8ºN, 79ºW</td>\n",
       "      <td>NaN</td>\n",
       "      <td>Jules Patterson</td>\n",
       "      <td>M</td>\n",
       "      <td>NaN</td>\n",
       "      <td>FATAL</td>\n",
       "      <td>Y</td>\n",
       "      <td>NaN</td>\n",
       "      <td>NaN</td>\n",
       "      <td>The Sun, 10/20/1938</td>\n",
       "    </tr>\n",
       "    <tr>\n",
       "      <th>6065</th>\n",
       "      <td>ND.0001</td>\n",
       "      <td>1845-1853</td>\n",
       "      <td>Unprovoked</td>\n",
       "      <td>CEYLON (SRI LANKA)</td>\n",
       "      <td>Eastern Province</td>\n",
       "      <td>Below the English fort, Trincomalee</td>\n",
       "      <td>Swimming</td>\n",
       "      <td>male</td>\n",
       "      <td>M</td>\n",
       "      <td>15</td>\n",
       "      <td>FATAL. \"Shark bit him in half, carrying away t...</td>\n",
       "      <td>Y</td>\n",
       "      <td>NaN</td>\n",
       "      <td>NaN</td>\n",
       "      <td>S.W. Baker</td>\n",
       "    </tr>\n",
       "  </tbody>\n",
       "</table>\n",
       "</div>"
      ],
      "text/plain": [
       "       caseno       Date        Type             Country              Area  \\\n",
       "6063  ND.0003  1900-1905  Unprovoked                 USA    North Carolina   \n",
       "6064  ND.0002  1883-1889  Unprovoked              PANAMA               NaN   \n",
       "6065  ND.0001  1845-1853  Unprovoked  CEYLON (SRI LANKA)  Eastern Province   \n",
       "\n",
       "                                 Location  Activity                   Name  \\\n",
       "6063                       Ocracoke Inlet  Swimming  Coast Guard personnel   \n",
       "6064                 Panama Bay 8ºN, 79ºW       NaN        Jules Patterson   \n",
       "6065  Below the English fort, Trincomalee  Swimming                   male   \n",
       "\n",
       "     sex  Age                                             Injury fatal Time  \\\n",
       "6063   M  NaN                                              FATAL     Y  NaN   \n",
       "6064   M  NaN                                              FATAL     Y  NaN   \n",
       "6065   M   15  FATAL. \"Shark bit him in half, carrying away t...     Y  NaN   \n",
       "\n",
       "     species                Investigator or Source  \n",
       "6063     NaN  F. Schwartz, p.23; C. Creswell, GSAF  \n",
       "6064     NaN                   The Sun, 10/20/1938  \n",
       "6065     NaN                            S.W. Baker  "
      ]
     },
     "execution_count": 15,
     "metadata": {},
     "output_type": "execute_result"
    }
   ],
   "source": [
    "attacks.tail(3)"
   ]
  },
  {
   "cell_type": "code",
   "execution_count": 16,
   "metadata": {
    "collapsed": false
   },
   "outputs": [
    {
     "data": {
      "text/plain": [
       "N          4382\n",
       "Y          1558\n",
       "UNKNOWN     126\n",
       "Name: fatal, dtype: int64"
      ]
     },
     "execution_count": 16,
     "metadata": {},
     "output_type": "execute_result"
    }
   ],
   "source": [
    "attacks.fatal.value_counts()"
   ]
  },
  {
   "cell_type": "code",
   "execution_count": 17,
   "metadata": {
    "collapsed": false
   },
   "outputs": [
    {
     "data": {
      "text/plain": [
       "Unprovoked      4446\n",
       "Provoked         561\n",
       "Invalid          526\n",
       "Sea Disaster     220\n",
       "Boat             202\n",
       "Boating          110\n",
       "Name: Type, dtype: int64"
      ]
     },
     "execution_count": 17,
     "metadata": {},
     "output_type": "execute_result"
    }
   ],
   "source": [
    "attacks.Type.value_counts()"
   ]
  },
  {
   "cell_type": "code",
   "execution_count": null,
   "metadata": {
    "collapsed": true
   },
   "outputs": [],
   "source": []
  },
  {
   "cell_type": "code",
   "execution_count": 20,
   "metadata": {
    "collapsed": false
   },
   "outputs": [
    {
     "name": "stdout",
     "output_type": "stream",
     "text": [
      "wrote 25604 records to ../output/attacks.csv.gz.\n"
     ]
    }
   ],
   "source": [
    "# write the data \n",
    "fpath = \"../output/attacks.csv.gz\"\n",
    "attacks.to_csv(fpath, sep=\"|\", compression='gzip')\n",
    "print(\"wrote {} records to {}\".format(len(attacks), fpath))"
   ]
  },
  {
   "cell_type": "code",
   "execution_count": null,
   "metadata": {
    "collapsed": true
   },
   "outputs": [],
   "source": [
    "# done."
   ]
  }
 ],
 "metadata": {
  "anaconda-cloud": {},
  "kernelspec": {
   "display_name": "Python [default]",
   "language": "python",
   "name": "python3"
  },
  "language_info": {
   "codemirror_mode": {
    "name": "ipython",
    "version": 3
   },
   "file_extension": ".py",
   "mimetype": "text/x-python",
   "name": "python",
   "nbconvert_exporter": "python",
   "pygments_lexer": "ipython3",
   "version": "3.5.2"
  }
 },
 "nbformat": 4,
 "nbformat_minor": 1
}
