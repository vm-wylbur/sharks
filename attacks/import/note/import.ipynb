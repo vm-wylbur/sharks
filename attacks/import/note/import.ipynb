{
 "cells": [
  {
   "cell_type": "markdown",
   "metadata": {},
   "source": [
    "# Import\n",
    "\n",
    "all we do is open the file with pandas and write a csv. "
   ]
  },
  {
   "cell_type": "code",
   "execution_count": 5,
   "metadata": {
    "collapsed": true
   },
   "outputs": [],
   "source": [
    "import pandas as pd\n",
    "import gzip"
   ]
  },
  {
   "cell_type": "code",
   "execution_count": 35,
   "metadata": {
    "collapsed": false
   },
   "outputs": [
    {
     "name": "stdout",
     "output_type": "stream",
     "text": [
      "<class 'pandas.core.frame.DataFrame'>\n",
      "RangeIndex: 25604 entries, 0 to 25603\n",
      "Data columns (total 15 columns):\n",
      "caseno                    8584 non-null object\n",
      "Date                      6066 non-null object\n",
      "Type                      6065 non-null object\n",
      "Country                   6021 non-null object\n",
      "Area                      5656 non-null object\n",
      "Location                  5560 non-null object\n",
      "Activity                  5532 non-null object\n",
      "Name                      5861 non-null object\n",
      "sex                       5491 non-null object\n",
      "Age                       3359 non-null object\n",
      "Injury                    6038 non-null object\n",
      "fatal                     25604 non-null object\n",
      "Time                      2831 non-null object\n",
      "species                   3088 non-null object\n",
      "Investigator or Source    6050 non-null object\n",
      "dtypes: object(15)\n",
      "memory usage: 2.9+ MB\n"
     ]
    }
   ],
   "source": [
    "# read and prepare the data\n",
    "\n",
    "attacks = pd.read_excel(gzip.open(\"../input/GSAF5.xls.gz\"))\n",
    "\n",
    "fields_to_keep = [\"Case Number\", \"Date\", \"Type\", \"Country\", \"Area\",\n",
    "                  \"Location\", \"Activity\", \"Name\", \"Sex \", \"Age\", \"Injury\",\n",
    "                  \"Fatal (Y/N)\", \"Time\", \"Species \", \"Investigator or Source\"]\n",
    "attacks = attacks[fields_to_keep]\n",
    "\n",
    "renamer = {\n",
    "    'Case Number': 'caseno',\n",
    "    'Species ': 'species',\n",
    "    'Fatal (Y/N)': 'fatal',\n",
    "    'Sex ': 'sex'}\n",
    "attacks.rename(columns=renamer, inplace=True)\n",
    "del renamer \n",
    "\n",
    "replacer = {'N': 'N', 'Y': 'Y'}\n",
    "attacks['fatal'] = attacks.fatal.map(\n",
    "    lambda f: replacer.get(str(f).upper().strip(), 'UNKNOWN'))\n",
    "del replacer\n",
    "\n",
    "attacks.info()"
   ]
  },
  {
   "cell_type": "code",
   "execution_count": 36,
   "metadata": {
    "collapsed": false
   },
   "outputs": [
    {
     "data": {
      "text/plain": [
       "UNKNOWN    19664\n",
       "N           4382\n",
       "Y           1558\n",
       "Name: fatal, dtype: int64"
      ]
     },
     "execution_count": 36,
     "metadata": {},
     "output_type": "execute_result"
    }
   ],
   "source": [
    "attacks.fatal.value_counts()"
   ]
  },
  {
   "cell_type": "code",
   "execution_count": 22,
   "metadata": {
    "collapsed": false
   },
   "outputs": [
    {
     "data": {
      "text/plain": [
       "Unprovoked      4446\n",
       "Provoked         561\n",
       "Invalid          526\n",
       "Sea Disaster     220\n",
       "Boat             202\n",
       "Boating          110\n",
       "Name: Type, dtype: int64"
      ]
     },
     "execution_count": 22,
     "metadata": {},
     "output_type": "execute_result"
    }
   ],
   "source": [
    "attacks.Type.value_counts()"
   ]
  },
  {
   "cell_type": "code",
   "execution_count": 20,
   "metadata": {
    "collapsed": false
   },
   "outputs": [
    {
     "name": "stdout",
     "output_type": "stream",
     "text": [
      "wrote 25604 records to ../output/attacks.csv.gz.\n"
     ]
    }
   ],
   "source": [
    "# write the data \n",
    "fpath = \"../output/attacks.csv.gz\"\n",
    "attacks.to_csv(fpath, sep=\"|\", compression='gzip')\n",
    "print(\"wrote {} records to {}\".format(len(attacks), fpath))"
   ]
  },
  {
   "cell_type": "code",
   "execution_count": null,
   "metadata": {
    "collapsed": true
   },
   "outputs": [],
   "source": [
    "# done."
   ]
  }
 ],
 "metadata": {
  "anaconda-cloud": {},
  "kernelspec": {
   "display_name": "Python [default]",
   "language": "python",
   "name": "python3"
  },
  "language_info": {
   "codemirror_mode": {
    "name": "ipython",
    "version": 3
   },
   "file_extension": ".py",
   "mimetype": "text/x-python",
   "name": "python",
   "nbconvert_exporter": "python",
   "pygments_lexer": "ipython3",
   "version": "3.5.2"
  }
 },
 "nbformat": 4,
 "nbformat_minor": 1
}
